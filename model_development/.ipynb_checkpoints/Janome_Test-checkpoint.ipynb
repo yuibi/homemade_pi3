{
 "cells": [
  {
   "cell_type": "code",
   "execution_count": 12,
   "metadata": {
    "collapsed": false
   },
   "outputs": [
    {
     "name": "stdout",
     "output_type": "stream",
     "text": [
      "python\t名詞,固有名詞,組織,*,*,*,python,*,*\n",
      "の\t助詞,連体化,*,*,*,*,の,ノ,ノ\n",
      "本\t名詞,一般,*,*,*,*,本,ホン,ホン\n",
      "を\t助詞,格助詞,一般,*,*,*,を,ヲ,ヲ\n",
      "読ん\t動詞,自立,*,*,五段・マ行,連用タ接続,読む,ヨン,ヨン\n",
      "だ\t助動詞,*,*,*,特殊・タ,基本形,だ,ダ,ダ\n"
     ]
    }
   ],
   "source": [
    "from janome.tokenizer import Tokenizer\n",
    "\n",
    "t = Tokenizer()\n",
    "tokens = t.tokenize(u'pythonの本を読んだ')\n",
    " \n",
    "for token in tokens:\n",
    "    print(token)"
   ]
  },
  {
   "cell_type": "code",
   "execution_count": 2,
   "metadata": {
    "collapsed": false
   },
   "outputs": [
    {
     "name": "stdout",
     "output_type": "stream",
     "text": [
      "東京\t名詞,固有名詞,地域,一般,*,*,東京,トウキョウ,トーキョー\n",
      " \t記号,空白,*,*,*,*, ,*,*\n",
      "fm\t名詞,固有名詞,組織,*,*,*,fm,*,*\n",
      " \t記号,空白,*,*,*,*, ,*,*\n",
      "を\t助詞,格助詞,一般,*,*,*,を,ヲ,ヲ\n",
      "聞き\t動詞,自立,*,*,五段・カ行イ音便,連用形,聞く,キキ,キキ\n",
      "たい\t助動詞,*,*,*,特殊・タイ,基本形,たい,タイ,タイ\n",
      "です\t助動詞,*,*,*,特殊・デス,基本形,です,デス,デス\n"
     ]
    }
   ],
   "source": [
    "tokens = t.tokenize(u'東京 fm を聞きたいです')\n",
    " \n",
    "for token in tokens:\n",
    "    print(token)"
   ]
  },
  {
   "cell_type": "code",
   "execution_count": 75,
   "metadata": {
    "collapsed": false
   },
   "outputs": [
    {
     "name": "stdout",
     "output_type": "stream",
     "text": [
      "横浜\t名詞,固有名詞,地域,一般,*,*,横浜,ヨコハマ,ヨコハマ\n",
      "fm\t名詞,一般,*,*,*,*,fm,*,*\n",
      "78\t名詞,数,*,*,*,*,78,*,*\n",
      "が\t助詞,格助詞,一般,*,*,*,が,ガ,ガ\n",
      "聞き\t動詞,自立,*,*,五段・カ行イ音便,連用形,聞く,キキ,キキ\n",
      "たい\t助動詞,*,*,*,特殊・タイ,基本形,たい,タイ,タイ\n",
      "ん\t名詞,非自立,一般,*,*,*,ん,ン,ン\n",
      "です\t助動詞,*,*,*,特殊・デス,基本形,です,デス,デス\n",
      "けど\t助詞,接続助詞,*,*,*,*,けど,ケド,ケド\n"
     ]
    }
   ],
   "source": [
    "tokens = t.tokenize(u'横浜fm78 が聞きたいんですけど'.replace(\" \", \"\").lower())\n",
    " \n",
    "for token in tokens:\n",
    "    print(token)"
   ]
  },
  {
   "cell_type": "code",
   "execution_count": 65,
   "metadata": {
    "collapsed": false
   },
   "outputs": [
    {
     "name": "stdout",
     "output_type": "stream",
     "text": [
      "横浜 fm 78 を かけ て ください\n"
     ]
    }
   ],
   "source": [
    "tokens_w_space = \"\"\n",
    "\n",
    "for token in tokens:\n",
    "    tokens_w_space = tokens_w_space + \" \" + token.surface\n",
    "\n",
    "tokens_w_space = tokens_w_space.strip()\n",
    "\n",
    "print(tokens_w_space)"
   ]
  },
  {
   "cell_type": "code",
   "execution_count": 80,
   "metadata": {
    "collapsed": false
   },
   "outputs": [
    {
     "name": "stdout",
     "output_type": "stream",
     "text": [
      "ヨコハマ エフエム ナナ ハチ ガ キキ タイ ン デス ケド\n"
     ]
    }
   ],
   "source": [
    "import re\n",
    "\n",
    "tokens_reading = \"\"\n",
    "\n",
    "for token in tokens:\n",
    "    if token.reading != \"*\":\n",
    "        tokens_reading = tokens_reading + \" \" + token.reading\n",
    "    elif re.match('^[a-z]+$', token.base_form):\n",
    "        alpha_reading = \"\"\n",
    "        alpha_reading = token.base_form.replace(\"a\", \"エー\")\n",
    "        alpha_reading = alpha_reading.replace(\"b\", \"ビー\")\n",
    "        alpha_reading = alpha_reading.replace(\"c\", \"シー\")\n",
    "        alpha_reading = alpha_reading.replace(\"d\", \"ディー\")\n",
    "        alpha_reading = alpha_reading.replace(\"e\", \"イー\")\n",
    "        alpha_reading = alpha_reading.replace(\"f\", \"エフ\")\n",
    "        alpha_reading = alpha_reading.replace(\"g\", \"ジー\")\n",
    "        alpha_reading = alpha_reading.replace(\"h\", \"エイチ\")\n",
    "        alpha_reading = alpha_reading.replace(\"i\", \"アイ\")\n",
    "        alpha_reading = alpha_reading.replace(\"j\", \"ジェー\")\n",
    "        alpha_reading = alpha_reading.replace(\"k\", \"ケー\")\n",
    "        alpha_reading = alpha_reading.replace(\"l\", \"エル\")\n",
    "        alpha_reading = alpha_reading.replace(\"m\", \"エム\")\n",
    "        alpha_reading = alpha_reading.replace(\"n\", \"エヌ\")\n",
    "        alpha_reading = alpha_reading.replace(\"o\", \"オー\")\n",
    "        alpha_reading = alpha_reading.replace(\"p\", \"ピー\")\n",
    "        alpha_reading = alpha_reading.replace(\"q\", \"キュー\")\n",
    "        alpha_reading = alpha_reading.replace(\"r\", \"アール\")\n",
    "        alpha_reading = alpha_reading.replace(\"s\", \"エス\")\n",
    "        alpha_reading = alpha_reading.replace(\"t\", \"ティー\")\n",
    "        alpha_reading = alpha_reading.replace(\"u\", \"ユー\")\n",
    "        alpha_reading = alpha_reading.replace(\"v\", \"ブイ\")\n",
    "        alpha_reading = alpha_reading.replace(\"w\", \"ダブリュー\")\n",
    "        alpha_reading = alpha_reading.replace(\"x\", \"エックス\")\n",
    "        alpha_reading = alpha_reading.replace(\"y\", \"ワイ\")\n",
    "        alpha_reading = alpha_reading.replace(\"z\", \"ゼット\")\n",
    "        \n",
    "        tokens_reading = tokens_reading + \" \" + alpha_reading\n",
    "    elif re.match('^[0-9]+$', token.base_form):\n",
    "        numeric_reading = \"\"\n",
    "        numeric_reading = token.base_form.replace(\"0\", \"ゼロ \")\n",
    "        numeric_reading = numeric_reading.replace(\"1\", \"イチ \")\n",
    "        numeric_reading = numeric_reading.replace(\"2\", \"ニ \")\n",
    "        numeric_reading = numeric_reading.replace(\"3\", \"サン \")\n",
    "        numeric_reading = numeric_reading.replace(\"4\", \"シ \")\n",
    "        numeric_reading = numeric_reading.replace(\"5\", \"ゴ \")\n",
    "        numeric_reading = numeric_reading.replace(\"6\", \"ロク \")\n",
    "        numeric_reading = numeric_reading.replace(\"7\", \"ナナ \")\n",
    "        numeric_reading = numeric_reading.replace(\"8\", \"ハチ \")\n",
    "        numeric_reading = numeric_reading.replace(\"9\", \"キュー \")\n",
    "\n",
    "        tokens_reading = tokens_reading + \" \" + numeric_reading.strip()\n",
    "        \n",
    "tokens_reading = tokens_reading.strip()\n",
    "\n",
    "print(tokens_reading)"
   ]
  },
  {
   "cell_type": "code",
   "execution_count": 67,
   "metadata": {
    "collapsed": false
   },
   "outputs": [
    {
     "name": "stdout",
     "output_type": "stream",
     "text": [
      "横浜 fm 78 を かけ て ください ヨコハマ エフエム ナナハチ ヲ カケ テ クダサイ\n"
     ]
    }
   ],
   "source": [
    "feature = tokens_w_space + \" \" + tokens_reading\n",
    "print(feature)"
   ]
  }
 ],
 "metadata": {
  "kernelspec": {
   "display_name": "Python 3",
   "language": "python",
   "name": "python3"
  },
  "language_info": {
   "codemirror_mode": {
    "name": "ipython",
    "version": 3
   },
   "file_extension": ".py",
   "mimetype": "text/x-python",
   "name": "python",
   "nbconvert_exporter": "python",
   "pygments_lexer": "ipython3",
   "version": "3.6.0"
  }
 },
 "nbformat": 4,
 "nbformat_minor": 2
}
