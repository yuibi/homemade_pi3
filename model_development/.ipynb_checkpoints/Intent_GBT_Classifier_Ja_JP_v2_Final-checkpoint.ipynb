{
 "cells": [
  {
   "cell_type": "code",
   "execution_count": 1,
   "metadata": {
    "collapsed": false
   },
   "outputs": [],
   "source": [
    "import numpy as np\n",
    "import pandas as pd\n",
    "import sklearn as sk\n",
    "import matplotlib.pyplot as plt\n",
    "from sklearn.datasets import make_classification\n",
    "from sklearn.model_selection import train_test_split\n",
    "from sklearn import preprocessing\n",
    "from sklearn.preprocessing import label_binarize\n",
    "from sklearn.model_selection import RandomizedSearchCV\n",
    "from sklearn.model_selection import StratifiedKFold\n",
    "from sklearn.feature_extraction.text import TfidfVectorizer\n",
    "from sklearn.externals import joblib\n",
    "from sklearn.metrics import precision_score, recall_score, confusion_matrix, classification_report,accuracy_score, f1_score, classification_report , roc_auc_score , precision_recall_curve , average_precision_score, auc , roc_curve\n",
    "import scipy.stats as st\n",
    "from janome.tokenizer import Tokenizer\n",
    "import re\n",
    "from sklearn.pipeline import Pipeline\n",
    "from sklearn.ensemble import GradientBoostingClassifier"
   ]
  },
  {
   "cell_type": "code",
   "execution_count": 2,
   "metadata": {
    "collapsed": false
   },
   "outputs": [],
   "source": [
    "from IPython.core.interactiveshell import InteractiveShell\n",
    "InteractiveShell.ast_node_interactivity = \"all\""
   ]
  },
  {
   "cell_type": "code",
   "execution_count": 3,
   "metadata": {
    "collapsed": true
   },
   "outputs": [],
   "source": [
    "data = pd.read_csv('./data/intent_data_jp_ja.csv', sep=',', names=['text', 'intent'])"
   ]
  },
  {
   "cell_type": "code",
   "execution_count": 4,
   "metadata": {
    "collapsed": false
   },
   "outputs": [
    {
     "data": {
      "text/plain": [
       "(4215, 2)"
      ]
     },
     "execution_count": 4,
     "metadata": {},
     "output_type": "execute_result"
    }
   ],
   "source": [
    "data.shape"
   ]
  },
  {
   "cell_type": "code",
   "execution_count": 5,
   "metadata": {
    "collapsed": false
   },
   "outputs": [
    {
     "data": {
      "text/html": [
       "<div>\n",
       "<style>\n",
       "    .dataframe thead tr:only-child th {\n",
       "        text-align: right;\n",
       "    }\n",
       "\n",
       "    .dataframe thead th {\n",
       "        text-align: left;\n",
       "    }\n",
       "\n",
       "    .dataframe tbody tr th {\n",
       "        vertical-align: top;\n",
       "    }\n",
       "</style>\n",
       "<table border=\"1\" class=\"dataframe\">\n",
       "  <thead>\n",
       "    <tr style=\"text-align: right;\">\n",
       "      <th></th>\n",
       "      <th>text</th>\n",
       "      <th>intent</th>\n",
       "    </tr>\n",
       "  </thead>\n",
       "  <tbody>\n",
       "    <tr>\n",
       "      <th>0</th>\n",
       "      <td>ラジオ日本聞きたい</td>\n",
       "      <td>JORF</td>\n",
       "    </tr>\n",
       "    <tr>\n",
       "      <th>1</th>\n",
       "      <td>ラジオ日本を聞かせて</td>\n",
       "      <td>JORF</td>\n",
       "    </tr>\n",
       "    <tr>\n",
       "      <th>2</th>\n",
       "      <td>ラジオ日本を再生</td>\n",
       "      <td>JORF</td>\n",
       "    </tr>\n",
       "  </tbody>\n",
       "</table>\n",
       "</div>"
      ],
      "text/plain": [
       "         text intent\n",
       "0   ラジオ日本聞きたい   JORF\n",
       "1  ラジオ日本を聞かせて   JORF\n",
       "2    ラジオ日本を再生   JORF"
      ]
     },
     "execution_count": 5,
     "metadata": {},
     "output_type": "execute_result"
    }
   ],
   "source": [
    "data.head(3)"
   ]
  },
  {
   "cell_type": "code",
   "execution_count": 6,
   "metadata": {
    "collapsed": false
   },
   "outputs": [],
   "source": [
    "le = preprocessing.LabelEncoder()\n",
    "\n",
    "data['label'] = le.fit_transform(data['intent'])"
   ]
  },
  {
   "cell_type": "code",
   "execution_count": 7,
   "metadata": {
    "collapsed": false
   },
   "outputs": [
    {
     "data": {
      "text/plain": [
       "(4215, 3)"
      ]
     },
     "execution_count": 7,
     "metadata": {},
     "output_type": "execute_result"
    }
   ],
   "source": [
    "data.shape"
   ]
  },
  {
   "cell_type": "code",
   "execution_count": 8,
   "metadata": {
    "collapsed": false
   },
   "outputs": [
    {
     "data": {
      "text/html": [
       "<div>\n",
       "<style>\n",
       "    .dataframe thead tr:only-child th {\n",
       "        text-align: right;\n",
       "    }\n",
       "\n",
       "    .dataframe thead th {\n",
       "        text-align: left;\n",
       "    }\n",
       "\n",
       "    .dataframe tbody tr th {\n",
       "        vertical-align: top;\n",
       "    }\n",
       "</style>\n",
       "<table border=\"1\" class=\"dataframe\">\n",
       "  <thead>\n",
       "    <tr style=\"text-align: right;\">\n",
       "      <th></th>\n",
       "      <th>text</th>\n",
       "      <th>intent</th>\n",
       "      <th>label</th>\n",
       "    </tr>\n",
       "  </thead>\n",
       "  <tbody>\n",
       "    <tr>\n",
       "      <th>0</th>\n",
       "      <td>ラジオ日本聞きたい</td>\n",
       "      <td>JORF</td>\n",
       "      <td>5</td>\n",
       "    </tr>\n",
       "    <tr>\n",
       "      <th>1</th>\n",
       "      <td>ラジオ日本を聞かせて</td>\n",
       "      <td>JORF</td>\n",
       "      <td>5</td>\n",
       "    </tr>\n",
       "    <tr>\n",
       "      <th>2</th>\n",
       "      <td>ラジオ日本を再生</td>\n",
       "      <td>JORF</td>\n",
       "      <td>5</td>\n",
       "    </tr>\n",
       "    <tr>\n",
       "      <th>3</th>\n",
       "      <td>ラジオ日本再生</td>\n",
       "      <td>JORF</td>\n",
       "      <td>5</td>\n",
       "    </tr>\n",
       "    <tr>\n",
       "      <th>4</th>\n",
       "      <td>ラジオ日本を再生して</td>\n",
       "      <td>JORF</td>\n",
       "      <td>5</td>\n",
       "    </tr>\n",
       "    <tr>\n",
       "      <th>5</th>\n",
       "      <td>ラジオ日本を再生</td>\n",
       "      <td>JORF</td>\n",
       "      <td>5</td>\n",
       "    </tr>\n",
       "    <tr>\n",
       "      <th>6</th>\n",
       "      <td>ラジオ日本かけて</td>\n",
       "      <td>JORF</td>\n",
       "      <td>5</td>\n",
       "    </tr>\n",
       "    <tr>\n",
       "      <th>7</th>\n",
       "      <td>ラジオ日本して</td>\n",
       "      <td>JORF</td>\n",
       "      <td>5</td>\n",
       "    </tr>\n",
       "    <tr>\n",
       "      <th>8</th>\n",
       "      <td>ラジオ日本にまわして</td>\n",
       "      <td>JORF</td>\n",
       "      <td>5</td>\n",
       "    </tr>\n",
       "    <tr>\n",
       "      <th>9</th>\n",
       "      <td>ラジオ日本に変更して</td>\n",
       "      <td>JORF</td>\n",
       "      <td>5</td>\n",
       "    </tr>\n",
       "    <tr>\n",
       "      <th>10</th>\n",
       "      <td>ラジオ日本が聞きたいです</td>\n",
       "      <td>JORF</td>\n",
       "      <td>5</td>\n",
       "    </tr>\n",
       "    <tr>\n",
       "      <th>11</th>\n",
       "      <td>ラジオ日本聞かせてください</td>\n",
       "      <td>JORF</td>\n",
       "      <td>5</td>\n",
       "    </tr>\n",
       "    <tr>\n",
       "      <th>12</th>\n",
       "      <td>ラジオ日本をかけてください</td>\n",
       "      <td>JORF</td>\n",
       "      <td>5</td>\n",
       "    </tr>\n",
       "    <tr>\n",
       "      <th>13</th>\n",
       "      <td>ラジオ日本を再生してください</td>\n",
       "      <td>JORF</td>\n",
       "      <td>5</td>\n",
       "    </tr>\n",
       "    <tr>\n",
       "      <th>14</th>\n",
       "      <td>ラジオ日本を再生して欲しい</td>\n",
       "      <td>JORF</td>\n",
       "      <td>5</td>\n",
       "    </tr>\n",
       "    <tr>\n",
       "      <th>15</th>\n",
       "      <td>ラジオ日本にしてください</td>\n",
       "      <td>JORF</td>\n",
       "      <td>5</td>\n",
       "    </tr>\n",
       "    <tr>\n",
       "      <th>16</th>\n",
       "      <td>ラジオ日本がいいです</td>\n",
       "      <td>JORF</td>\n",
       "      <td>5</td>\n",
       "    </tr>\n",
       "    <tr>\n",
       "      <th>17</th>\n",
       "      <td>ラジオ日本がいいと思う</td>\n",
       "      <td>JORF</td>\n",
       "      <td>5</td>\n",
       "    </tr>\n",
       "    <tr>\n",
       "      <th>18</th>\n",
       "      <td>ラジオ日本を聞きたい</td>\n",
       "      <td>JORF</td>\n",
       "      <td>5</td>\n",
       "    </tr>\n",
       "    <tr>\n",
       "      <th>19</th>\n",
       "      <td>ラジオ日本を聞きたいです</td>\n",
       "      <td>JORF</td>\n",
       "      <td>5</td>\n",
       "    </tr>\n",
       "    <tr>\n",
       "      <th>20</th>\n",
       "      <td>ラジオ日本に変えて</td>\n",
       "      <td>JORF</td>\n",
       "      <td>5</td>\n",
       "    </tr>\n",
       "    <tr>\n",
       "      <th>21</th>\n",
       "      <td>ラジオ日本に変えてください</td>\n",
       "      <td>JORF</td>\n",
       "      <td>5</td>\n",
       "    </tr>\n",
       "    <tr>\n",
       "      <th>22</th>\n",
       "      <td>ラジオ日本が聞きたいのですが</td>\n",
       "      <td>JORF</td>\n",
       "      <td>5</td>\n",
       "    </tr>\n",
       "    <tr>\n",
       "      <th>23</th>\n",
       "      <td>ラジオ日本を聞きたいのですが</td>\n",
       "      <td>JORF</td>\n",
       "      <td>5</td>\n",
       "    </tr>\n",
       "    <tr>\n",
       "      <th>24</th>\n",
       "      <td>ラジオ日本が聞きたいんですが</td>\n",
       "      <td>JORF</td>\n",
       "      <td>5</td>\n",
       "    </tr>\n",
       "    <tr>\n",
       "      <th>25</th>\n",
       "      <td>ラジオ日本を聞きたいんですが</td>\n",
       "      <td>JORF</td>\n",
       "      <td>5</td>\n",
       "    </tr>\n",
       "    <tr>\n",
       "      <th>26</th>\n",
       "      <td>ラジオ日本がいいのですが</td>\n",
       "      <td>JORF</td>\n",
       "      <td>5</td>\n",
       "    </tr>\n",
       "    <tr>\n",
       "      <th>27</th>\n",
       "      <td>ラジオ日本がいいんですが</td>\n",
       "      <td>JORF</td>\n",
       "      <td>5</td>\n",
       "    </tr>\n",
       "    <tr>\n",
       "      <th>28</th>\n",
       "      <td>ラジオ日本が聞きたいのですけど</td>\n",
       "      <td>JORF</td>\n",
       "      <td>5</td>\n",
       "    </tr>\n",
       "    <tr>\n",
       "      <th>29</th>\n",
       "      <td>ラジオ日本を聞きたいのですけど</td>\n",
       "      <td>JORF</td>\n",
       "      <td>5</td>\n",
       "    </tr>\n",
       "    <tr>\n",
       "      <th>...</th>\n",
       "      <td>...</td>\n",
       "      <td>...</td>\n",
       "      <td>...</td>\n",
       "    </tr>\n",
       "    <tr>\n",
       "      <th>4185</th>\n",
       "      <td>every little thingの歌を再生して</td>\n",
       "      <td>YOUTUBE</td>\n",
       "      <td>17</td>\n",
       "    </tr>\n",
       "    <tr>\n",
       "      <th>4186</th>\n",
       "      <td>every little thingの動画を再生して</td>\n",
       "      <td>YOUTUBE</td>\n",
       "      <td>17</td>\n",
       "    </tr>\n",
       "    <tr>\n",
       "      <th>4187</th>\n",
       "      <td>every little thingを youtube 再生</td>\n",
       "      <td>YOUTUBE</td>\n",
       "      <td>17</td>\n",
       "    </tr>\n",
       "    <tr>\n",
       "      <th>4188</th>\n",
       "      <td>every little thingのささやかな祈りを再生して</td>\n",
       "      <td>YOUTUBE</td>\n",
       "      <td>17</td>\n",
       "    </tr>\n",
       "    <tr>\n",
       "      <th>4189</th>\n",
       "      <td>every little thingの動画を youtube 再生して</td>\n",
       "      <td>YOUTUBE</td>\n",
       "      <td>17</td>\n",
       "    </tr>\n",
       "    <tr>\n",
       "      <th>4190</th>\n",
       "      <td>every little thingの歌が聞きたい</td>\n",
       "      <td>YOUTUBE</td>\n",
       "      <td>17</td>\n",
       "    </tr>\n",
       "    <tr>\n",
       "      <th>4191</th>\n",
       "      <td>every little thingが聞きたい</td>\n",
       "      <td>YOUTUBE</td>\n",
       "      <td>17</td>\n",
       "    </tr>\n",
       "    <tr>\n",
       "      <th>4192</th>\n",
       "      <td>every little thingの歌を聞かせて</td>\n",
       "      <td>YOUTUBE</td>\n",
       "      <td>17</td>\n",
       "    </tr>\n",
       "    <tr>\n",
       "      <th>4193</th>\n",
       "      <td>every little thingの fragile を見たい</td>\n",
       "      <td>YOUTUBE</td>\n",
       "      <td>17</td>\n",
       "    </tr>\n",
       "    <tr>\n",
       "      <th>4194</th>\n",
       "      <td>every little thingのスイミーを youtube で見たい</td>\n",
       "      <td>YOUTUBE</td>\n",
       "      <td>17</td>\n",
       "    </tr>\n",
       "    <tr>\n",
       "      <th>4195</th>\n",
       "      <td>akb48の歌を再生して</td>\n",
       "      <td>YOUTUBE</td>\n",
       "      <td>17</td>\n",
       "    </tr>\n",
       "    <tr>\n",
       "      <th>4196</th>\n",
       "      <td>akb48の動画を再生して</td>\n",
       "      <td>YOUTUBE</td>\n",
       "      <td>17</td>\n",
       "    </tr>\n",
       "    <tr>\n",
       "      <th>4197</th>\n",
       "      <td>akb48を youtube 再生</td>\n",
       "      <td>YOUTUBE</td>\n",
       "      <td>17</td>\n",
       "    </tr>\n",
       "    <tr>\n",
       "      <th>4198</th>\n",
       "      <td>akb48の恋するフォーチュンクッキーを再生して</td>\n",
       "      <td>YOUTUBE</td>\n",
       "      <td>17</td>\n",
       "    </tr>\n",
       "    <tr>\n",
       "      <th>4199</th>\n",
       "      <td>akb48の動画を youtube 再生して</td>\n",
       "      <td>YOUTUBE</td>\n",
       "      <td>17</td>\n",
       "    </tr>\n",
       "    <tr>\n",
       "      <th>4200</th>\n",
       "      <td>akb48の歌が聞きたい</td>\n",
       "      <td>YOUTUBE</td>\n",
       "      <td>17</td>\n",
       "    </tr>\n",
       "    <tr>\n",
       "      <th>4201</th>\n",
       "      <td>akb48が聞きたい</td>\n",
       "      <td>YOUTUBE</td>\n",
       "      <td>17</td>\n",
       "    </tr>\n",
       "    <tr>\n",
       "      <th>4202</th>\n",
       "      <td>akb48の歌を聞かせて</td>\n",
       "      <td>YOUTUBE</td>\n",
       "      <td>17</td>\n",
       "    </tr>\n",
       "    <tr>\n",
       "      <th>4203</th>\n",
       "      <td>akb48のヘビーローテーションを見たい</td>\n",
       "      <td>YOUTUBE</td>\n",
       "      <td>17</td>\n",
       "    </tr>\n",
       "    <tr>\n",
       "      <th>4204</th>\n",
       "      <td>akb48のフライングゲットを youtube で見たい</td>\n",
       "      <td>YOUTUBE</td>\n",
       "      <td>17</td>\n",
       "    </tr>\n",
       "    <tr>\n",
       "      <th>4205</th>\n",
       "      <td>東京ラブストーリーの主題歌を再生して</td>\n",
       "      <td>YOUTUBE</td>\n",
       "      <td>17</td>\n",
       "    </tr>\n",
       "    <tr>\n",
       "      <th>4206</th>\n",
       "      <td>東京ラブストーリーの動画を再生して</td>\n",
       "      <td>YOUTUBE</td>\n",
       "      <td>17</td>\n",
       "    </tr>\n",
       "    <tr>\n",
       "      <th>4207</th>\n",
       "      <td>東京ラブストーリーを youtube 再生</td>\n",
       "      <td>YOUTUBE</td>\n",
       "      <td>17</td>\n",
       "    </tr>\n",
       "    <tr>\n",
       "      <th>4208</th>\n",
       "      <td>東京ラブストーリーのリカのテーマを再生して</td>\n",
       "      <td>YOUTUBE</td>\n",
       "      <td>17</td>\n",
       "    </tr>\n",
       "    <tr>\n",
       "      <th>4209</th>\n",
       "      <td>東京ラブストーリーの動画を youtube 再生して</td>\n",
       "      <td>YOUTUBE</td>\n",
       "      <td>17</td>\n",
       "    </tr>\n",
       "    <tr>\n",
       "      <th>4210</th>\n",
       "      <td>東京ラブストーリーのサウンドトラックが聞きたい</td>\n",
       "      <td>YOUTUBE</td>\n",
       "      <td>17</td>\n",
       "    </tr>\n",
       "    <tr>\n",
       "      <th>4211</th>\n",
       "      <td>東京ラブストーリーが聞きたい</td>\n",
       "      <td>YOUTUBE</td>\n",
       "      <td>17</td>\n",
       "    </tr>\n",
       "    <tr>\n",
       "      <th>4212</th>\n",
       "      <td>東京ラブストーリーの歌を聞かせて</td>\n",
       "      <td>YOUTUBE</td>\n",
       "      <td>17</td>\n",
       "    </tr>\n",
       "    <tr>\n",
       "      <th>4213</th>\n",
       "      <td>東京ラブストーリーの主題歌を見たい</td>\n",
       "      <td>YOUTUBE</td>\n",
       "      <td>17</td>\n",
       "    </tr>\n",
       "    <tr>\n",
       "      <th>4214</th>\n",
       "      <td>東京ラブストーリーのサウンドトラックを youtube で見たい</td>\n",
       "      <td>YOUTUBE</td>\n",
       "      <td>17</td>\n",
       "    </tr>\n",
       "  </tbody>\n",
       "</table>\n",
       "<p>4215 rows × 3 columns</p>\n",
       "</div>"
      ],
      "text/plain": [
       "                                       text   intent  label\n",
       "0                                 ラジオ日本聞きたい     JORF      5\n",
       "1                                ラジオ日本を聞かせて     JORF      5\n",
       "2                                  ラジオ日本を再生     JORF      5\n",
       "3                                   ラジオ日本再生     JORF      5\n",
       "4                                ラジオ日本を再生して     JORF      5\n",
       "5                                  ラジオ日本を再生     JORF      5\n",
       "6                                  ラジオ日本かけて     JORF      5\n",
       "7                                   ラジオ日本して     JORF      5\n",
       "8                                ラジオ日本にまわして     JORF      5\n",
       "9                                ラジオ日本に変更して     JORF      5\n",
       "10                             ラジオ日本が聞きたいです     JORF      5\n",
       "11                            ラジオ日本聞かせてください     JORF      5\n",
       "12                            ラジオ日本をかけてください     JORF      5\n",
       "13                           ラジオ日本を再生してください     JORF      5\n",
       "14                            ラジオ日本を再生して欲しい     JORF      5\n",
       "15                             ラジオ日本にしてください     JORF      5\n",
       "16                               ラジオ日本がいいです     JORF      5\n",
       "17                              ラジオ日本がいいと思う     JORF      5\n",
       "18                               ラジオ日本を聞きたい     JORF      5\n",
       "19                             ラジオ日本を聞きたいです     JORF      5\n",
       "20                                ラジオ日本に変えて     JORF      5\n",
       "21                            ラジオ日本に変えてください     JORF      5\n",
       "22                           ラジオ日本が聞きたいのですが     JORF      5\n",
       "23                           ラジオ日本を聞きたいのですが     JORF      5\n",
       "24                           ラジオ日本が聞きたいんですが     JORF      5\n",
       "25                           ラジオ日本を聞きたいんですが     JORF      5\n",
       "26                             ラジオ日本がいいのですが     JORF      5\n",
       "27                             ラジオ日本がいいんですが     JORF      5\n",
       "28                          ラジオ日本が聞きたいのですけど     JORF      5\n",
       "29                          ラジオ日本を聞きたいのですけど     JORF      5\n",
       "...                                     ...      ...    ...\n",
       "4185              every little thingの歌を再生して  YOUTUBE     17\n",
       "4186             every little thingの動画を再生して  YOUTUBE     17\n",
       "4187         every little thingを youtube 再生  YOUTUBE     17\n",
       "4188        every little thingのささやかな祈りを再生して  YOUTUBE     17\n",
       "4189    every little thingの動画を youtube 再生して  YOUTUBE     17\n",
       "4190              every little thingの歌が聞きたい  YOUTUBE     17\n",
       "4191                every little thingが聞きたい  YOUTUBE     17\n",
       "4192              every little thingの歌を聞かせて  YOUTUBE     17\n",
       "4193       every little thingの fragile を見たい  YOUTUBE     17\n",
       "4194  every little thingのスイミーを youtube で見たい  YOUTUBE     17\n",
       "4195                           akb48の歌を再生して  YOUTUBE     17\n",
       "4196                          akb48の動画を再生して  YOUTUBE     17\n",
       "4197                      akb48を youtube 再生  YOUTUBE     17\n",
       "4198               akb48の恋するフォーチュンクッキーを再生して  YOUTUBE     17\n",
       "4199                 akb48の動画を youtube 再生して  YOUTUBE     17\n",
       "4200                           akb48の歌が聞きたい  YOUTUBE     17\n",
       "4201                             akb48が聞きたい  YOUTUBE     17\n",
       "4202                           akb48の歌を聞かせて  YOUTUBE     17\n",
       "4203                   akb48のヘビーローテーションを見たい  YOUTUBE     17\n",
       "4204           akb48のフライングゲットを youtube で見たい  YOUTUBE     17\n",
       "4205                     東京ラブストーリーの主題歌を再生して  YOUTUBE     17\n",
       "4206                      東京ラブストーリーの動画を再生して  YOUTUBE     17\n",
       "4207                  東京ラブストーリーを youtube 再生  YOUTUBE     17\n",
       "4208                  東京ラブストーリーのリカのテーマを再生して  YOUTUBE     17\n",
       "4209             東京ラブストーリーの動画を youtube 再生して  YOUTUBE     17\n",
       "4210                東京ラブストーリーのサウンドトラックが聞きたい  YOUTUBE     17\n",
       "4211                         東京ラブストーリーが聞きたい  YOUTUBE     17\n",
       "4212                       東京ラブストーリーの歌を聞かせて  YOUTUBE     17\n",
       "4213                      東京ラブストーリーの主題歌を見たい  YOUTUBE     17\n",
       "4214       東京ラブストーリーのサウンドトラックを youtube で見たい  YOUTUBE     17\n",
       "\n",
       "[4215 rows x 3 columns]"
      ]
     },
     "execution_count": 8,
     "metadata": {},
     "output_type": "execute_result"
    }
   ],
   "source": [
    "data"
   ]
  },
  {
   "cell_type": "code",
   "execution_count": 9,
   "metadata": {
    "collapsed": false
   },
   "outputs": [
    {
     "data": {
      "text/plain": [
       "array([ 5,  0,  7, 16,  3, 18, 19, 20, 13,  9,  6, 10, 11,  4,  2,  1, 12,\n",
       "       15, 14,  8, 17], dtype=int64)"
      ]
     },
     "execution_count": 9,
     "metadata": {},
     "output_type": "execute_result"
    }
   ],
   "source": [
    "data.label.unique()"
   ]
  },
  {
   "cell_type": "code",
   "execution_count": 10,
   "metadata": {
    "collapsed": false
   },
   "outputs": [],
   "source": [
    "data = data.drop(['intent'], axis=1)"
   ]
  },
  {
   "cell_type": "code",
   "execution_count": 11,
   "metadata": {
    "collapsed": false
   },
   "outputs": [
    {
     "data": {
      "text/html": [
       "<div>\n",
       "<style>\n",
       "    .dataframe thead tr:only-child th {\n",
       "        text-align: right;\n",
       "    }\n",
       "\n",
       "    .dataframe thead th {\n",
       "        text-align: left;\n",
       "    }\n",
       "\n",
       "    .dataframe tbody tr th {\n",
       "        vertical-align: top;\n",
       "    }\n",
       "</style>\n",
       "<table border=\"1\" class=\"dataframe\">\n",
       "  <thead>\n",
       "    <tr style=\"text-align: right;\">\n",
       "      <th></th>\n",
       "      <th>text</th>\n",
       "      <th>label</th>\n",
       "    </tr>\n",
       "  </thead>\n",
       "  <tbody>\n",
       "    <tr>\n",
       "      <th>0</th>\n",
       "      <td>ラジオ日本聞きたい</td>\n",
       "      <td>5</td>\n",
       "    </tr>\n",
       "    <tr>\n",
       "      <th>1</th>\n",
       "      <td>ラジオ日本を聞かせて</td>\n",
       "      <td>5</td>\n",
       "    </tr>\n",
       "    <tr>\n",
       "      <th>2</th>\n",
       "      <td>ラジオ日本を再生</td>\n",
       "      <td>5</td>\n",
       "    </tr>\n",
       "  </tbody>\n",
       "</table>\n",
       "</div>"
      ],
      "text/plain": [
       "         text  label\n",
       "0   ラジオ日本聞きたい      5\n",
       "1  ラジオ日本を聞かせて      5\n",
       "2    ラジオ日本を再生      5"
      ]
     },
     "execution_count": 11,
     "metadata": {},
     "output_type": "execute_result"
    }
   ],
   "source": [
    "data.head(3)"
   ]
  },
  {
   "cell_type": "code",
   "execution_count": 12,
   "metadata": {
    "collapsed": true
   },
   "outputs": [],
   "source": [
    "j_tokenizer = Tokenizer()\n",
    "\n",
    "def wakati_reading(text):\n",
    "    tokens = j_tokenizer.tokenize(text.replace(\"'\", \"\").lower())\n",
    "    \n",
    "    exclude_pos = [u'助動詞']\n",
    "    \n",
    "    #分かち書き\n",
    "    tokens_w_space = \"\"\n",
    "    for token in tokens:\n",
    "        partOfSpeech = token.part_of_speech.split(',')[0]\n",
    "        \n",
    "        if partOfSpeech not in exclude_pos:\n",
    "            tokens_w_space = tokens_w_space + \" \" + token.surface\n",
    "\n",
    "    tokens_w_space = tokens_w_space.strip()\n",
    "    \n",
    "    #読み方\n",
    "    tokens_reading = \"\"\n",
    "    for token in tokens:\n",
    "        partOfSpeech = token.part_of_speech.split(',')[0]\n",
    " \n",
    "        if partOfSpeech not in exclude_pos:\n",
    "            if token.reading != \"*\":\n",
    "                tokens_reading = tokens_reading + \" \" + token.reading\n",
    "            elif re.match('^[a-z]+$', token.base_form):\n",
    "                alpha_reading = \"\"\n",
    "                alpha_reading = token.base_form.replace(\"a\", \"エー \")\n",
    "                alpha_reading = alpha_reading.replace(\"b\", \"ビー \")\n",
    "                alpha_reading = alpha_reading.replace(\"c\", \"シー \")\n",
    "                alpha_reading = alpha_reading.replace(\"d\", \"ディー \")\n",
    "                alpha_reading = alpha_reading.replace(\"e\", \"イー \")\n",
    "                alpha_reading = alpha_reading.replace(\"f\", \"エフ \")\n",
    "                alpha_reading = alpha_reading.replace(\"g\", \"ジー \")\n",
    "                alpha_reading = alpha_reading.replace(\"h\", \"エイチ \")\n",
    "                alpha_reading = alpha_reading.replace(\"i\", \"アイ \")\n",
    "                alpha_reading = alpha_reading.replace(\"j\", \"ジェー \")\n",
    "                alpha_reading = alpha_reading.replace(\"k\", \"ケー \")\n",
    "                alpha_reading = alpha_reading.replace(\"l\", \"エル \")\n",
    "                alpha_reading = alpha_reading.replace(\"m\", \"エム \")\n",
    "                alpha_reading = alpha_reading.replace(\"n\", \"エヌ \")\n",
    "                alpha_reading = alpha_reading.replace(\"o\", \"オー \")\n",
    "                alpha_reading = alpha_reading.replace(\"p\", \"ピー \")\n",
    "                alpha_reading = alpha_reading.replace(\"q\", \"キュー \")\n",
    "                alpha_reading = alpha_reading.replace(\"r\", \"アール \")\n",
    "                alpha_reading = alpha_reading.replace(\"s\", \"エス \")\n",
    "                alpha_reading = alpha_reading.replace(\"t\", \"ティー \")\n",
    "                alpha_reading = alpha_reading.replace(\"u\", \"ユー \")\n",
    "                alpha_reading = alpha_reading.replace(\"v\", \"ブイ \")\n",
    "                alpha_reading = alpha_reading.replace(\"w\", \"ダブリュー \")\n",
    "                alpha_reading = alpha_reading.replace(\"x\", \"エックス \")\n",
    "                alpha_reading = alpha_reading.replace(\"y\", \"ワイ \")\n",
    "                alpha_reading = alpha_reading.replace(\"z\", \"ゼット \")\n",
    "\n",
    "                tokens_reading = tokens_reading + \" \" + alpha_reading\n",
    "            elif re.match('^[0-9]+$', token.base_form):\n",
    "                numeric_reading = \"\"\n",
    "                numeric_reading = token.base_form.replace(\"0\", \"ゼロ \")\n",
    "                numeric_reading = numeric_reading.replace(\"1\", \"イチ \")\n",
    "                numeric_reading = numeric_reading.replace(\"2\", \"ニ \")\n",
    "                numeric_reading = numeric_reading.replace(\"3\", \"サン \")\n",
    "                numeric_reading = numeric_reading.replace(\"4\", \"ヨン \")\n",
    "                numeric_reading = numeric_reading.replace(\"5\", \"ゴ \")\n",
    "                numeric_reading = numeric_reading.replace(\"6\", \"ロク \")\n",
    "                numeric_reading = numeric_reading.replace(\"7\", \"ナナ \")\n",
    "                numeric_reading = numeric_reading.replace(\"8\", \"ハチ \")\n",
    "                numeric_reading = numeric_reading.replace(\"9\", \"キュー \")\n",
    "\n",
    "                tokens_reading = tokens_reading + \" \" + numeric_reading.strip()\n",
    "\n",
    "    tokens_reading = tokens_reading.strip()\n",
    "    \n",
    "    feature = tokens_w_space + \" \" + tokens_reading\n",
    "    \n",
    "    return feature"
   ]
  },
  {
   "cell_type": "code",
   "execution_count": 13,
   "metadata": {
    "collapsed": false
   },
   "outputs": [
    {
     "data": {
      "text/html": [
       "<div>\n",
       "<style>\n",
       "    .dataframe thead tr:only-child th {\n",
       "        text-align: right;\n",
       "    }\n",
       "\n",
       "    .dataframe thead th {\n",
       "        text-align: left;\n",
       "    }\n",
       "\n",
       "    .dataframe tbody tr th {\n",
       "        vertical-align: top;\n",
       "    }\n",
       "</style>\n",
       "<table border=\"1\" class=\"dataframe\">\n",
       "  <thead>\n",
       "    <tr style=\"text-align: right;\">\n",
       "      <th></th>\n",
       "      <th>label</th>\n",
       "      <th>feature</th>\n",
       "    </tr>\n",
       "  </thead>\n",
       "  <tbody>\n",
       "    <tr>\n",
       "      <th>0</th>\n",
       "      <td>5</td>\n",
       "      <td>ラジオ 日本 聞き ラジオ ニッポン キキ</td>\n",
       "    </tr>\n",
       "    <tr>\n",
       "      <th>1</th>\n",
       "      <td>5</td>\n",
       "      <td>ラジオ 日本 を 聞か せ て ラジオ ニッポン ヲ キカ セ テ</td>\n",
       "    </tr>\n",
       "    <tr>\n",
       "      <th>2</th>\n",
       "      <td>5</td>\n",
       "      <td>ラジオ 日本 を 再生 ラジオ ニッポン ヲ サイセイ</td>\n",
       "    </tr>\n",
       "  </tbody>\n",
       "</table>\n",
       "</div>"
      ],
      "text/plain": [
       "   label                            feature\n",
       "0      5              ラジオ 日本 聞き ラジオ ニッポン キキ\n",
       "1      5  ラジオ 日本 を 聞か せ て ラジオ ニッポン ヲ キカ セ テ\n",
       "2      5        ラジオ 日本 を 再生 ラジオ ニッポン ヲ サイセイ"
      ]
     },
     "execution_count": 13,
     "metadata": {},
     "output_type": "execute_result"
    }
   ],
   "source": [
    "#Tokenize, remove stop words / pos, and add pronunciation\n",
    "data['feature'] = data['text'].apply(lambda x: wakati_reading(x))\n",
    "data = data.drop(['text'], axis=1)\n",
    "\n",
    "data.head(3)"
   ]
  },
  {
   "cell_type": "code",
   "execution_count": 14,
   "metadata": {
    "collapsed": true
   },
   "outputs": [],
   "source": [
    "train = data.drop(['label'], axis=1)\n",
    "train_label = data['label']"
   ]
  },
  {
   "cell_type": "code",
   "execution_count": 15,
   "metadata": {
    "collapsed": true
   },
   "outputs": [],
   "source": [
    "#Split to training and validation\n",
    "train_X, val_X, train_Y, val_Y = train_test_split(train, train_label,\n",
    "                                                  test_size = .2,\n",
    "                                                  random_state=12)"
   ]
  },
  {
   "cell_type": "code",
   "execution_count": 16,
   "metadata": {
    "collapsed": false
   },
   "outputs": [
    {
     "data": {
      "text/html": [
       "<div>\n",
       "<style>\n",
       "    .dataframe thead tr:only-child th {\n",
       "        text-align: right;\n",
       "    }\n",
       "\n",
       "    .dataframe thead th {\n",
       "        text-align: left;\n",
       "    }\n",
       "\n",
       "    .dataframe tbody tr th {\n",
       "        vertical-align: top;\n",
       "    }\n",
       "</style>\n",
       "<table border=\"1\" class=\"dataframe\">\n",
       "  <thead>\n",
       "    <tr style=\"text-align: right;\">\n",
       "      <th></th>\n",
       "      <th>feature</th>\n",
       "    </tr>\n",
       "  </thead>\n",
       "  <tbody>\n",
       "    <tr>\n",
       "      <th>3661</th>\n",
       "      <td>終了 し て いい よ シュウリョウ シ テ イイ ヨ</td>\n",
       "    </tr>\n",
       "    <tr>\n",
       "      <th>381</th>\n",
       "      <td>bay   sm に 変え て ください ビー エー ワイ  エス エム  ニ カエ テ クダサイ</td>\n",
       "    </tr>\n",
       "    <tr>\n",
       "      <th>243</th>\n",
       "      <td>bayfm を 聞き ビー エー ワイ エフ エム  ヲ キキ</td>\n",
       "    </tr>\n",
       "  </tbody>\n",
       "</table>\n",
       "</div>"
      ],
      "text/plain": [
       "                                                feature\n",
       "3661                        終了 し て いい よ シュウリョウ シ テ イイ ヨ\n",
       "381   bay   sm に 変え て ください ビー エー ワイ  エス エム  ニ カエ テ クダサイ\n",
       "243                     bayfm を 聞き ビー エー ワイ エフ エム  ヲ キキ"
      ]
     },
     "execution_count": 16,
     "metadata": {},
     "output_type": "execute_result"
    }
   ],
   "source": [
    "train_X.head(3)"
   ]
  },
  {
   "cell_type": "code",
   "execution_count": 17,
   "metadata": {
    "collapsed": false
   },
   "outputs": [
    {
     "data": {
      "text/plain": [
       "3661    12\n",
       "381      0\n",
       "243      0\n",
       "Name: label, dtype: int64"
      ]
     },
     "execution_count": 17,
     "metadata": {},
     "output_type": "execute_result"
    }
   ],
   "source": [
    "train_Y.head(3)"
   ]
  },
  {
   "cell_type": "code",
   "execution_count": 18,
   "metadata": {
    "collapsed": false
   },
   "outputs": [
    {
     "data": {
      "text/html": [
       "<div>\n",
       "<style>\n",
       "    .dataframe thead tr:only-child th {\n",
       "        text-align: right;\n",
       "    }\n",
       "\n",
       "    .dataframe thead th {\n",
       "        text-align: left;\n",
       "    }\n",
       "\n",
       "    .dataframe tbody tr th {\n",
       "        vertical-align: top;\n",
       "    }\n",
       "</style>\n",
       "<table border=\"1\" class=\"dataframe\">\n",
       "  <thead>\n",
       "    <tr style=\"text-align: right;\">\n",
       "      <th></th>\n",
       "      <th>feature</th>\n",
       "    </tr>\n",
       "  </thead>\n",
       "  <tbody>\n",
       "    <tr>\n",
       "      <th>2069</th>\n",
       "      <td>文化放送 を 再生 し て 欲しい ん が ブンカホウソウ ヲ サイセイ シ テ ホシイ ン ガ</td>\n",
       "    </tr>\n",
       "    <tr>\n",
       "      <th>1318</th>\n",
       "      <td>nhk   ワン を 再生 し て ください エヌ エイチ ケー  ワン ヲ サイセイ シ ...</td>\n",
       "    </tr>\n",
       "    <tr>\n",
       "      <th>2127</th>\n",
       "      <td>ブンカホウソウ を かけ て ください ヲ カケ テ クダサイ</td>\n",
       "    </tr>\n",
       "  </tbody>\n",
       "</table>\n",
       "</div>"
      ],
      "text/plain": [
       "                                                feature\n",
       "2069   文化放送 を 再生 し て 欲しい ん が ブンカホウソウ ヲ サイセイ シ テ ホシイ ン ガ\n",
       "1318  nhk   ワン を 再生 し て ください エヌ エイチ ケー  ワン ヲ サイセイ シ ...\n",
       "2127                    ブンカホウソウ を かけ て ください ヲ カケ テ クダサイ"
      ]
     },
     "execution_count": 18,
     "metadata": {},
     "output_type": "execute_result"
    }
   ],
   "source": [
    "val_X.head(3)"
   ]
  },
  {
   "cell_type": "code",
   "execution_count": 19,
   "metadata": {
    "collapsed": false
   },
   "outputs": [
    {
     "data": {
      "text/plain": [
       "2069     9\n",
       "1318    18\n",
       "2127     9\n",
       "Name: label, dtype: int64"
      ]
     },
     "execution_count": 19,
     "metadata": {},
     "output_type": "execute_result"
    }
   ],
   "source": [
    "val_Y.head(3)"
   ]
  },
  {
   "cell_type": "code",
   "execution_count": 20,
   "metadata": {
    "collapsed": false
   },
   "outputs": [],
   "source": [
    "#Apply tfidf with a custom Japanese token pattern\n",
    "tf = TfidfVectorizer(analyzer='word', ngram_range=(1,3), max_features=5000,\n",
    "                    sublinear_tf=True, token_pattern=u'[A-Za-z0-9\\-ぁ-ヶ亜-黑ー]{1,}')\n",
    "\n",
    "train_X_tf =  tf.fit_transform(train_X['feature'])\n",
    "val_X_tf =  tf.transform(val_X['feature'])"
   ]
  },
  {
   "cell_type": "code",
   "execution_count": 21,
   "metadata": {
    "collapsed": false
   },
   "outputs": [
    {
     "data": {
      "text/plain": [
       "(3372, 1)"
      ]
     },
     "execution_count": 21,
     "metadata": {},
     "output_type": "execute_result"
    }
   ],
   "source": [
    "train_X.shape"
   ]
  },
  {
   "cell_type": "code",
   "execution_count": 22,
   "metadata": {
    "collapsed": false
   },
   "outputs": [
    {
     "data": {
      "text/plain": [
       "(3372, 5000)"
      ]
     },
     "execution_count": 22,
     "metadata": {},
     "output_type": "execute_result"
    }
   ],
   "source": [
    "train_X_tf.shape"
   ]
  },
  {
   "cell_type": "code",
   "execution_count": 23,
   "metadata": {
    "collapsed": false
   },
   "outputs": [
    {
     "data": {
      "text/plain": [
       "(843, 5000)"
      ]
     },
     "execution_count": 23,
     "metadata": {},
     "output_type": "execute_result"
    }
   ],
   "source": [
    "val_X_tf.shape"
   ]
  },
  {
   "cell_type": "markdown",
   "metadata": {
    "collapsed": true
   },
   "source": [
    "Model development"
   ]
  },
  {
   "cell_type": "code",
   "execution_count": 24,
   "metadata": {
    "collapsed": false
   },
   "outputs": [
    {
     "name": "stdout",
     "output_type": "stream",
     "text": [
      "Fitting 3 folds for each of 5 candidates, totalling 15 fits\n"
     ]
    },
    {
     "name": "stderr",
     "output_type": "stream",
     "text": [
      "[Parallel(n_jobs=-1)]: Done  15 out of  15 | elapsed:  2.2min finished\n"
     ]
    },
    {
     "data": {
      "text/plain": [
       "RandomizedSearchCV(cv=<generator object _BaseKFold.split at 0x0000026B7A616620>,\n",
       "          error_score='raise',\n",
       "          estimator=GradientBoostingClassifier(criterion='friedman_mse', init=None,\n",
       "              learning_rate=0.1, loss='deviance', max_depth=3,\n",
       "              max_features=None, max_leaf_nodes=None,\n",
       "              min_impurity_decrease=0.0, min_impurity_split=None,\n",
       "              min_samples_leaf=1, min_samples_split=2,\n",
       "              min_weight_fraction_leaf=0.0, n_estimators=100,\n",
       "              presort='auto', random_state=None, subsample=1.0, verbose=0,\n",
       "              warm_start=False),\n",
       "          fit_params=None, iid=True, n_iter=5, n_jobs=-1,\n",
       "          param_distributions={'subsample': <scipy.stats._distn_infrastructure.rv_frozen object at 0x0000026B00B0B278>, 'max_depth': <scipy.stats._distn_infrastructure.rv_frozen object at 0x0000026B00A0FEF0>, 'n_estimators': <scipy.stats._distn_infrastructure.rv_frozen object at 0x0000026B00A0FFD0>, 'random_state': [1337], 'learning_rate': <scipy.stats._distn_infrastructure.rv_frozen object at 0x0000026B00A0FCC0>},\n",
       "          pre_dispatch='2*n_jobs', random_state=None, refit=True,\n",
       "          return_train_score=True, scoring='f1_weighted', verbose=1)"
      ]
     },
     "execution_count": 24,
     "metadata": {},
     "output_type": "execute_result"
    }
   ],
   "source": [
    "kfolds = StratifiedKFold(3)\n",
    "\n",
    "gb_model = GradientBoostingClassifier()\n",
    "\n",
    "parameters = {'learning_rate': st.uniform(0.01, 0.1), #so called `eta` value\n",
    "              'max_depth': st.randint(3, 7),\n",
    "              'n_estimators': st.randint(5, 50),\n",
    "              'subsample': st.beta(10, 1),\n",
    "              'random_state': [1337]}\n",
    "\n",
    "#y = label_binarize(train_Y, classes=[0, 1, 2, 3, 4, 5, 6, 7, 8, 9, 10, 11, 12, 13, 14, 15, 16, 17, 18, 19])\n",
    "\n",
    "clf_cv = RandomizedSearchCV(gb_model, param_distributions=parameters, n_jobs=-1, \n",
    "                   cv=kfolds.split(train_X_tf, train_Y),\n",
    "                   n_iter = 5,\n",
    "                   scoring='f1_weighted',\n",
    "                   verbose=1)\n",
    "\n",
    "clf_cv.fit(train_X_tf, train_Y)"
   ]
  },
  {
   "cell_type": "code",
   "execution_count": 25,
   "metadata": {
    "collapsed": false
   },
   "outputs": [
    {
     "data": {
      "text/plain": [
       "0.9912364120143865"
      ]
     },
     "execution_count": 25,
     "metadata": {},
     "output_type": "execute_result"
    }
   ],
   "source": [
    "clf_cv.best_score_"
   ]
  },
  {
   "cell_type": "code",
   "execution_count": 26,
   "metadata": {
    "collapsed": false
   },
   "outputs": [
    {
     "name": "stdout",
     "output_type": "stream",
     "text": [
      "Raw AUC score: 0.991236412014\n",
      "learning_rate: 0.07857631252683478\n",
      "max_depth: 4\n",
      "n_estimators: 38\n",
      "random_state: 1337\n",
      "subsample: 0.85690600047481891\n"
     ]
    },
    {
     "name": "stderr",
     "output_type": "stream",
     "text": [
      "C:\\Users\\yfujimoto\\AppData\\Local\\Continuum\\Anaconda3\\envs\\yfujimoto\\lib\\site-packages\\sklearn\\model_selection\\_search.py:747: DeprecationWarning: The grid_scores_ attribute was deprecated in version 0.18 in favor of the more elaborate cv_results_ attribute. The grid_scores_ attribute will not be available from 0.20\n",
      "  DeprecationWarning)\n"
     ]
    }
   ],
   "source": [
    "best_parameters, score, _ = max(clf_cv.grid_scores_, key=lambda x: x[1])\n",
    "\n",
    "print('Raw AUC score:', score)\n",
    "for param_name in sorted(best_parameters.keys()):\n",
    "    print(\"%s: %r\" % (param_name, best_parameters[param_name]))"
   ]
  },
  {
   "cell_type": "code",
   "execution_count": 27,
   "metadata": {
    "collapsed": false
   },
   "outputs": [],
   "source": [
    "#Apply the model to the validation set\n",
    "_predictions = clf_cv.predict(val_X_tf)\n",
    "_probas = clf_cv.predict_proba(val_X_tf)\n",
    "\n",
    "target_map = {u'0': 0, u'1': 1, u'2': 2, u'3': 3, u'4': 4, u'5': 5, u'6': 6, u'7': 7, u'8': 8, u'9': 9, u'10': 10, u'11': 11, u'12': 12, u'13': 13, u'14': 14, u'15': 15, u'16': 16, u'17': 17, u'18': 18, u'19': 19, u'20': 20}\n",
    "\n",
    "predictions = pd.Series(data=_predictions, index=val_X.index, name='predicted_value')\n",
    "cols = [\n",
    "    u'probability_of_%s' % label\n",
    "    for (_, label) in sorted([(int(label_id), label) for (label, label_id) in target_map.items()])\n",
    "]\n",
    "probabilities = pd.DataFrame(data=_probas, index=val_X.index, columns=cols)\n",
    "\n",
    "# Build scored dataset\n",
    "results_val = val_X.join(predictions, how='left')\n",
    "results_val = results_val.join(probabilities, how='left')\n",
    "results_val = results_val.join(val_Y, how='left')"
   ]
  },
  {
   "cell_type": "code",
   "execution_count": 28,
   "metadata": {
    "collapsed": false
   },
   "outputs": [
    {
     "data": {
      "text/html": [
       "<div>\n",
       "<style>\n",
       "    .dataframe thead tr:only-child th {\n",
       "        text-align: right;\n",
       "    }\n",
       "\n",
       "    .dataframe thead th {\n",
       "        text-align: left;\n",
       "    }\n",
       "\n",
       "    .dataframe tbody tr th {\n",
       "        vertical-align: top;\n",
       "    }\n",
       "</style>\n",
       "<table border=\"1\" class=\"dataframe\">\n",
       "  <thead>\n",
       "    <tr style=\"text-align: right;\">\n",
       "      <th></th>\n",
       "      <th>feature</th>\n",
       "      <th>predicted_value</th>\n",
       "      <th>probability_of_0</th>\n",
       "      <th>probability_of_1</th>\n",
       "      <th>probability_of_2</th>\n",
       "      <th>probability_of_3</th>\n",
       "      <th>probability_of_4</th>\n",
       "      <th>probability_of_5</th>\n",
       "      <th>probability_of_6</th>\n",
       "      <th>probability_of_7</th>\n",
       "      <th>...</th>\n",
       "      <th>probability_of_12</th>\n",
       "      <th>probability_of_13</th>\n",
       "      <th>probability_of_14</th>\n",
       "      <th>probability_of_15</th>\n",
       "      <th>probability_of_16</th>\n",
       "      <th>probability_of_17</th>\n",
       "      <th>probability_of_18</th>\n",
       "      <th>probability_of_19</th>\n",
       "      <th>probability_of_20</th>\n",
       "      <th>label</th>\n",
       "    </tr>\n",
       "  </thead>\n",
       "  <tbody>\n",
       "    <tr>\n",
       "      <th>2069</th>\n",
       "      <td>文化放送 を 再生 し て 欲しい ん が ブンカホウソウ ヲ サイセイ シ テ ホシイ ン ガ</td>\n",
       "      <td>9</td>\n",
       "      <td>0.000234</td>\n",
       "      <td>0.000235</td>\n",
       "      <td>0.000235</td>\n",
       "      <td>0.000236</td>\n",
       "      <td>0.000235</td>\n",
       "      <td>0.000330</td>\n",
       "      <td>0.000234</td>\n",
       "      <td>0.000235</td>\n",
       "      <td>...</td>\n",
       "      <td>0.001491</td>\n",
       "      <td>0.000235</td>\n",
       "      <td>0.000228</td>\n",
       "      <td>0.000227</td>\n",
       "      <td>0.000235</td>\n",
       "      <td>0.002359</td>\n",
       "      <td>0.000235</td>\n",
       "      <td>0.000235</td>\n",
       "      <td>0.000433</td>\n",
       "      <td>9</td>\n",
       "    </tr>\n",
       "    <tr>\n",
       "      <th>1318</th>\n",
       "      <td>nhk   ワン を 再生 し て ください エヌ エイチ ケー  ワン ヲ サイセイ シ ...</td>\n",
       "      <td>18</td>\n",
       "      <td>0.000223</td>\n",
       "      <td>0.000224</td>\n",
       "      <td>0.000224</td>\n",
       "      <td>0.000225</td>\n",
       "      <td>0.000224</td>\n",
       "      <td>0.000314</td>\n",
       "      <td>0.000223</td>\n",
       "      <td>0.000223</td>\n",
       "      <td>...</td>\n",
       "      <td>0.001419</td>\n",
       "      <td>0.000223</td>\n",
       "      <td>0.000217</td>\n",
       "      <td>0.000216</td>\n",
       "      <td>0.000224</td>\n",
       "      <td>0.002245</td>\n",
       "      <td>0.980926</td>\n",
       "      <td>0.000224</td>\n",
       "      <td>0.011540</td>\n",
       "      <td>18</td>\n",
       "    </tr>\n",
       "  </tbody>\n",
       "</table>\n",
       "<p>2 rows × 24 columns</p>\n",
       "</div>"
      ],
      "text/plain": [
       "                                                feature  predicted_value  \\\n",
       "2069   文化放送 を 再生 し て 欲しい ん が ブンカホウソウ ヲ サイセイ シ テ ホシイ ン ガ                9   \n",
       "1318  nhk   ワン を 再生 し て ください エヌ エイチ ケー  ワン ヲ サイセイ シ ...               18   \n",
       "\n",
       "      probability_of_0  probability_of_1  probability_of_2  probability_of_3  \\\n",
       "2069          0.000234          0.000235          0.000235          0.000236   \n",
       "1318          0.000223          0.000224          0.000224          0.000225   \n",
       "\n",
       "      probability_of_4  probability_of_5  probability_of_6  probability_of_7  \\\n",
       "2069          0.000235          0.000330          0.000234          0.000235   \n",
       "1318          0.000224          0.000314          0.000223          0.000223   \n",
       "\n",
       "      ...    probability_of_12  probability_of_13  probability_of_14  \\\n",
       "2069  ...             0.001491           0.000235           0.000228   \n",
       "1318  ...             0.001419           0.000223           0.000217   \n",
       "\n",
       "      probability_of_15  probability_of_16  probability_of_17  \\\n",
       "2069           0.000227           0.000235           0.002359   \n",
       "1318           0.000216           0.000224           0.002245   \n",
       "\n",
       "      probability_of_18  probability_of_19  probability_of_20  label  \n",
       "2069           0.000235           0.000235           0.000433      9  \n",
       "1318           0.980926           0.000224           0.011540     18  \n",
       "\n",
       "[2 rows x 24 columns]"
      ]
     },
     "execution_count": 28,
     "metadata": {},
     "output_type": "execute_result"
    }
   ],
   "source": [
    "results_val.head(2)"
   ]
  },
  {
   "cell_type": "code",
   "execution_count": 29,
   "metadata": {
    "collapsed": false
   },
   "outputs": [
    {
     "name": "stdout",
     "output_type": "stream",
     "text": [
      "0.99643486556\n",
      "0.996441281139\n",
      "0.996524526024\n"
     ]
    }
   ],
   "source": [
    "#Metrics\n",
    "print(clf_cv.score(val_X_tf, val_Y))\n",
    "print(recall_score(val_Y, clf_cv.predict(val_X_tf), average='weighted'))\n",
    "print(precision_score(val_Y, clf_cv.predict(val_X_tf), average='weighted'))"
   ]
  },
  {
   "cell_type": "markdown",
   "metadata": {},
   "source": [
    "Create a pipeline and save the model as a pickle file"
   ]
  },
  {
   "cell_type": "code",
   "execution_count": 30,
   "metadata": {
    "collapsed": true
   },
   "outputs": [],
   "source": [
    "#Decrease n_estimators for performance\n",
    "clf_final = Pipeline([('tfidf', TfidfVectorizer(analyzer='word', ngram_range=(1,3), max_features=5000,\n",
    "                    sublinear_tf=True, token_pattern=u'[A-Za-z0-9\\-ぁ-ヶ亜-黑ー]{1,}')),\n",
    "                           ('clf', GradientBoostingClassifier(\n",
    "                                random_state = 1337,\n",
    "                                verbose = 0,\n",
    "                                n_estimators = 20,\n",
    "                                learning_rate = 0.079,\n",
    "                                loss = 'deviance',\n",
    "                                subsample = 0.86,\n",
    "                                max_depth = 4\n",
    "                               ))])"
   ]
  },
  {
   "cell_type": "code",
   "execution_count": 31,
   "metadata": {
    "collapsed": false
   },
   "outputs": [
    {
     "data": {
      "text/plain": [
       "0.99644128113879005"
      ]
     },
     "execution_count": 31,
     "metadata": {},
     "output_type": "execute_result"
    }
   ],
   "source": [
    "clf_final = clf_final.fit(train_X['feature'], train_Y)\n",
    "\n",
    "predicted = clf_final.predict(val_X['feature'])\n",
    "np.mean(predicted == val_Y)"
   ]
  },
  {
   "cell_type": "code",
   "execution_count": 32,
   "metadata": {
    "collapsed": false
   },
   "outputs": [
    {
     "data": {
      "text/plain": [
       "['./model/ja_jp_v8.pkl']"
      ]
     },
     "execution_count": 32,
     "metadata": {},
     "output_type": "execute_result"
    }
   ],
   "source": [
    "#Saving the best model\n",
    "joblib.dump(clf_final, './model/ja_jp_v7.pkl')"
   ]
  }
 ],
 "metadata": {
  "kernelspec": {
   "display_name": "Python 3",
   "language": "python",
   "name": "python3"
  },
  "language_info": {
   "codemirror_mode": {
    "name": "ipython",
    "version": 3
   },
   "file_extension": ".py",
   "mimetype": "text/x-python",
   "name": "python",
   "nbconvert_exporter": "python",
   "pygments_lexer": "ipython3",
   "version": "3.5.3"
  }
 },
 "nbformat": 4,
 "nbformat_minor": 2
}
